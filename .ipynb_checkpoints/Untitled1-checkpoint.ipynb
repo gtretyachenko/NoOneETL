{
 "cells": [
  {
   "cell_type": "code",
   "execution_count": 6,
   "id": "2afc84c6-6477-4e8c-9cc8-20f83a4eb124",
   "metadata": {
    "tags": []
   },
   "outputs": [
    {
     "name": "stdout",
     "output_type": "stream",
     "text": [
      "***********************head*****************************\n",
      "    Date           GroupGoods GoodsName Models       Top Lining  Collor  \\\n",
      "0  44973  Брюки и комбинезоны     Брюки  Брюки  текстиль    н/у  ЧЁРНЫЙ   \n",
      "1  44973  Брюки и комбинезоны     Брюки  Брюки  текстиль    н/у  ЧЁРНЫЙ   \n",
      "2  44973  Брюки и комбинезоны     Брюки  Брюки  текстиль    н/у  ЧЁРНЫЙ   \n",
      "3  44973  Брюки и комбинезоны     Брюки  Брюки  текстиль    н/у  ЧЁРНЫЙ   \n",
      "4  44973  Брюки и комбинезоны     Брюки  Брюки  текстиль    н/у  ЧЁРНЫЙ   \n",
      "\n",
      "  TradeMark Size Quantity  \n",
      "0  Ice Play   38        2  \n",
      "1  Ice Play   40        4  \n",
      "2  Ice Play   42        4  \n",
      "3  Ice Play   44        3  \n",
      "4  Ice Play   46        2  \n",
      "*********************describe*******************************\n",
      "         Quantity     Date\n",
      "count  436.000000    436.0\n",
      "mean    13.433486  44973.0\n",
      "std     24.099653      0.0\n",
      "min      0.000000  44973.0\n",
      "25%      2.000000  44973.0\n",
      "50%      5.000000  44973.0\n",
      "75%     15.000000  44973.0\n",
      "max    201.000000  44973.0\n",
      "*********************describe*******************************\n",
      "                 GroupGoods GoodsName   Models       Top Lining   Collor  \\\n",
      "count                   436       436      436       436    436      436   \n",
      "unique                   12        20       21         3      2        3   \n",
      "top     Повседневная одежда   Фуфайка  (пусто)  трикотаж    н/у  ЦВЕТНОЙ   \n",
      "freq                    133        78      141       345    383      187   \n",
      "\n",
      "                  TradeMark Size  \n",
      "count                   436  436  \n",
      "unique                   11   25  \n",
      "top     Principe Di Bologna    L  \n",
      "freq                     90   83  \n",
      "***********************msno.bar*****************************\n"
     ]
    },
    {
     "ename": "NameError",
     "evalue": "name 'msno' is not defined",
     "output_type": "error",
     "traceback": [
      "\u001b[1;31m---------------------------------------------------------------------------\u001b[0m",
      "\u001b[1;31mNameError\u001b[0m                                 Traceback (most recent call last)",
      "Cell \u001b[1;32mIn[6], line 37\u001b[0m\n\u001b[0;32m     24\u001b[0m \u001b[38;5;66;03m# print('***********************info*****************************')\u001b[39;00m\n\u001b[0;32m     25\u001b[0m \u001b[38;5;66;03m# print(df2.info())\u001b[39;00m\n\u001b[0;32m     26\u001b[0m \u001b[38;5;66;03m# print('***********************isna().sum()*****************************')\u001b[39;00m\n\u001b[1;32m   (...)\u001b[0m\n\u001b[0;32m     34\u001b[0m \u001b[38;5;66;03m# print('***********************msno.dendrogram*****************************')\u001b[39;00m\n\u001b[0;32m     35\u001b[0m \u001b[38;5;66;03m# msno.dendrogram(df2)\u001b[39;00m\n\u001b[0;32m     36\u001b[0m \u001b[38;5;28mprint\u001b[39m(\u001b[38;5;124m'\u001b[39m\u001b[38;5;124m***********************msno.bar*****************************\u001b[39m\u001b[38;5;124m'\u001b[39m)\n\u001b[1;32m---> 37\u001b[0m \u001b[43mmsno\u001b[49m\u001b[38;5;241m.\u001b[39mbar(df)\n\u001b[0;32m     38\u001b[0m \u001b[38;5;28mprint\u001b[39m(\u001b[38;5;124m'\u001b[39m\u001b[38;5;124m***********************msno.matrix*****************************\u001b[39m\u001b[38;5;124m'\u001b[39m)\n\u001b[0;32m     39\u001b[0m msno\u001b[38;5;241m.\u001b[39mmatrix(df)\n",
      "\u001b[1;31mNameError\u001b[0m: name 'msno' is not defined"
     ]
    }
   ],
   "source": [
    "import pandas as pd\n",
    "import numpy as np\n",
    "import os\n",
    "import sys\n",
    "\n",
    "arr = np.load('eda_df.npy', allow_pickle=True)\n",
    "df = pd.DataFrame(arr, columns=['Date','GroupGoods','GoodsName','Models','Top','Lining','Collor','TradeMark','Size','Quantity'])\n",
    "\n",
    "df1 = df[['Quantity','Date']].apply(pd.to_numeric)\n",
    "df2 = df[['GroupGoods','GoodsName','Models','Top','Lining','Collor','TradeMark','Size']].astype(str)\n",
    "\n",
    "print('***********************head*****************************')\n",
    "print(df.head())\n",
    "print('*********************describe*******************************')\n",
    "print(df1.describe())\n",
    "# print('***********************info*****************************')\n",
    "# print(df1.info())\n",
    "# print('***********************isna().sum()*****************************')\n",
    "# print(df1.isna().sum())\n",
    "# print('***********************head*****************************')\n",
    "# print(df2.head())\n",
    "print('*********************describe*******************************')\n",
    "print(df2.describe())\n",
    "# print('***********************info*****************************')\n",
    "# print(df2.info())\n",
    "# print('***********************isna().sum()*****************************')\n",
    "# print(df2.isna().sum())\n",
    "# print('***********************msno.bar*****************************')\n",
    "# msno.bar(df2)\n",
    "# print('***********************msno.matrix*****************************')\n",
    "# msno.matrix(df2)\n",
    "# print('***********************msno.heatmap*****************************')\n",
    "# msno.heatmap(df2)\n",
    "# print('***********************msno.dendrogram*****************************')\n",
    "# msno.dendrogram(df2)\n",
    "print('***********************msno.bar*****************************')\n",
    "msno.bar(df)\n",
    "print('***********************msno.matrix*****************************')\n",
    "msno.matrix(df)\n",
    "# print('***********************msno.heatmap*****************************')\n",
    "# msno.heatmap(df)\n",
    "# print('***********************msno.dendrogram*****************************')\n",
    "# msno.dendrogram(df1)"
   ]
  },
  {
   "cell_type": "code",
   "execution_count": null,
   "id": "2cb5df1b-cff7-4578-a459-f5af5865bfad",
   "metadata": {},
   "outputs": [],
   "source": []
  }
 ],
 "metadata": {
  "kernelspec": {
   "display_name": "Python 3 (ipykernel)",
   "language": "python",
   "name": "python3"
  },
  "language_info": {
   "codemirror_mode": {
    "name": "ipython",
    "version": 3
   },
   "file_extension": ".py",
   "mimetype": "text/x-python",
   "name": "python",
   "nbconvert_exporter": "python",
   "pygments_lexer": "ipython3",
   "version": "3.10.2"
  }
 },
 "nbformat": 4,
 "nbformat_minor": 5
}
